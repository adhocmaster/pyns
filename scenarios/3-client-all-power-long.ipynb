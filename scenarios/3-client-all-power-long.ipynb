{
 "cells": [
  {
   "cell_type": "code",
   "execution_count": null,
   "metadata": {},
   "outputs": [],
   "source": [
    "exec(open(\"init_notebook.py\").read())\n",
    "%load_ext autoreload\n",
    "%autoreload 2"
   ]
  },
  {
   "cell_type": "code",
   "execution_count": null,
   "metadata": {},
   "outputs": [],
   "source": [
    "np.random.seed(39)\n",
    "logfile = \"2-client-debug.log\"\n",
    "with open(logfile, 'w') as f:\n",
    "    f.truncate()\n",
    "logging.basicConfig(level=logging.DEBUG, filename=logfile)\n",
    "print(f\"Logging file at: {logfile}\")\n",
    "\n",
    "config = Configuration()\n",
    "timeResolutionUnit = config.get('timeResolutionUnit')\n",
    "network = Network.get()\n",
    "nodeManager = NodeManager(timeResolutionUnit)\n",
    "analyzer = AnalyzerTools()"
   ]
  },
  {
   "cell_type": "code",
   "execution_count": null,
   "metadata": {},
   "outputs": [],
   "source": [
    "\n",
    "clientManager = ClientManager(timeResolutionUnit, debug=True)\n",
    "client = clientManager.createPowerTWClient(pollCycle=2,rttWindowSize=5, bandWidthWindowSize=5, deliveryRatePerS=1500, max_outstanding_packets=20)\n",
    "client2 = clientManager.createPowerTWClient(pollCycle=2,rttWindowSize=5, bandWidthWindowSize=5, deliveryRatePerS=1500, max_outstanding_packets=1, startAt=250000 )\n",
    "client3 = clientManager.createPowerTWClient(pollCycle=2,rttWindowSize=5, bandWidthWindowSize=5, deliveryRatePerS=1500, max_outstanding_packets=1, startAt=2000000 )\n"
   ]
  },
  {
   "cell_type": "code",
   "execution_count": null,
   "metadata": {},
   "outputs": [],
   "source": [
    "nodes = [\n",
    "    nodeManager.createSimpleNode(maxDeliveryRate=10000, debug=False),\n",
    "    nodeManager.createSimpleNode(maxDeliveryRate=2000, debug=False),\n",
    "    nodeManager.createSimpleNode(maxDeliveryRate=5000, debug=False),\n",
    "    nodeManager.createSimpleNode(maxDeliveryRate=3000, debug=False)\n",
    "]\n",
    "nodes2 = [\n",
    "    nodeManager.createSimpleNode(maxDeliveryRate=1500, debug=False),\n",
    "    nodeManager.createSimpleNode(maxDeliveryRate=5000, debug=False),\n",
    "    nodes[1],\n",
    "    nodeManager.createSimpleNode(maxDeliveryRate=5000, debug=False),\n",
    "    nodeManager.createSimpleNode(maxDeliveryRate=5000, debug=False),\n",
    "    nodeManager.createSimpleNode(maxDeliveryRate=1500, debug=False),\n",
    "    nodeManager.createSimpleNode(maxDeliveryRate=5000, debug=False)\n",
    "]\n",
    "\n",
    "nodes3 = [\n",
    "    nodeManager.createSimpleNode(maxDeliveryRate=10000, debug=False),\n",
    "    nodes2[5]\n",
    "]\n",
    "server = Server(-1)\n",
    "server2 = Server(-2)\n",
    "server3 = Server(-3)\n",
    "\n",
    "path = network.createPath(client=client, nodes=nodes, server=server)\n",
    "path2 = network.createPath(client=client2, nodes=nodes2, server=server2)\n",
    "path3 = network.createPath(client=client3, nodes=nodes3, server=server3)"
   ]
  },
  {
   "cell_type": "code",
   "execution_count": null,
   "metadata": {},
   "outputs": [],
   "source": [
    "logging.info(\"path for client1:\" + str([node.id for node in path.getNodesWithServer()]))\n",
    "logging.info(\"path for client2:\" + str([node.id for node in path2.getNodesWithServer()]))\n",
    "print(\"path for client1:\" + str([node.id for node in path.getNodesWithServer()]))\n",
    "print(\"path for client2:\" + str([node.id for node in path2.getNodesWithServer()]))\n",
    "logging.info(\"path for client3:\" + str([node.id for node in path3.getNodesWithServer()]))\n",
    "print(\"path for client3:\" + str([node.id for node in path3.getNodesWithServer()]))"
   ]
  },
  {
   "cell_type": "code",
   "execution_count": null,
   "metadata": {},
   "outputs": [],
   "source": [
    "# nodeManager.reset()\n",
    "# simulator = EventSimulator(timeResolutionUnit=timeResolutionUnit, nodeManager=nodeManager, debug=True)\n",
    "# simulator.addClient(client)\n",
    "# maxSteps = 100000 # equivalent to maxStep timeResolution unit\n",
    "# simulator.run(maxSteps)\n",
    "# # client 1 stats\n",
    "# # analyzer.createPlotsForTimeSteps(client.stats, ['outStandingPackets', 'packetsAcked', 'totalPacketsSent', 'totalPacketsAcked', 'rttMS'])\n",
    "# analyzer.createPlotsForTimeSteps(client.stats, ['outStandingPackets', 'packetsAcked', 'rttMS'])\n",
    "# analyzer.createPlotsForTimeSteps(client.stats, ['bottleNeck', 'dataInFlight', 'dataInQueue', 'rttMS'])\n",
    "\n",
    "# analyzer.binStats(nodes, columnNames= ['qSize', 'utilization'], binSize=500, method=np.max)\n",
    "# analyzer.binStats([client], columnNames= ['outStandingPackets', 'rttMS'], binSize=500, method=np.max)\n",
    "# analyzer.createBinnedChartForNodeVsClient(nodes, ['qSize'], [client], ['outStandingPackets', 'rttMS'])"
   ]
  },
  {
   "cell_type": "code",
   "execution_count": null,
   "metadata": {},
   "outputs": [],
   "source": [
    "nodeManager.reset()\n",
    "simulator = EventSimulator(timeResolutionUnit=timeResolutionUnit, nodeManager=nodeManager, debug=False)\n",
    "simulator.addClient(client)\n",
    "simulator.addClient(client2)\n",
    "simulator.addClient(client3)\n",
    "\n",
    "maxSteps = 5000000 # equivalent to maxStep timeResolution unit\n",
    "simulator.run(maxSteps)\n",
    "# client 1 stats\n",
    "# analyzer.createPlotsForTimeSteps(client.stats, ['outStandingPackets', 'packetsAcked', 'rttMS'], title=f\"{client.name} stats\")\n",
    "# analyzer.createPlotsForTimeSteps(client.stats, ['outStandingPackets', 'packetsAcked', 'totalPacketsSent', 'totalPacketsAcked', 'rttMS'], title=f\"{client.name} stats\")\n",
    "# analyzer.createPlotsForTimeSteps(client.stats, ['bottleNeck', 'dataInFlight', 'dataInQueue', 'rttMS'], title=f\"{client.name}\")\n",
    "# # client 2 stats\n",
    "# # analyzer.createPlotsForTimeSteps(client2.stats, ['outStandingPackets', 'packetsAcked', 'rttMS'], title=f\"{client2.name} stats\")\n",
    "# analyzer.createPlotsForTimeSteps(client2.stats, ['outStandingPackets', 'packetsAcked', 'totalPacketsSent', 'totalPacketsAcked', 'rttMS'], title=f\"{client2.name} stats\")\n",
    "# analyzer.createPlotsForTimeSteps(client2.stats, ['bottleNeck', 'dataInFlight', 'dataInQueue', 'rttMS'], title=f\"{client2.name} stats\")"
   ]
  },
  {
   "cell_type": "markdown",
   "metadata": {},
   "source": [
    "# Summary: bottleneck of client 2 shifts from node 5 to node 2 after a while. That changes the rtt of client 1. Both clients utilize 50% capacity of the network."
   ]
  },
  {
   "cell_type": "code",
   "execution_count": null,
   "metadata": {},
   "outputs": [],
   "source": [
    "# for node in nodeManager.getNodes():\n",
    "# #     analyzer.createPlotsForTimeSteps(node.stats, ['qSize', 'queued', 'dequeued', 'utilization'], title=f\"{node.name} stats\")\n",
    "#     analyzer.createPlotsForTimeSteps(node.stats, ['qSize', 'utilization'], title=f\"{node.name} stats\")"
   ]
  },
  {
   "cell_type": "code",
   "execution_count": null,
   "metadata": {},
   "outputs": [],
   "source": [
    "\n",
    "# analyzer.binStats(nodes2, columnNames= ['qSize', 'utilization'], binSize=100, method=np.median)\n",
    "# # analyzer.createPlotsForTimeSteps(randomNodes[0].binnedStats, ['qSize', 'utilization'], title=\"Node 0 stats\")\n",
    "# # analyzer.createBinnedChart(randomNodes, ['qSize'])\n",
    "# analyzer.binStats([client2], columnNames= ['outStandingPackets', 'rttMS'], binSize=100, method=np.median)\n",
    "# # analyzer.createBinnedChart([client], ['rttMS'])\n",
    "# analyzer.createBinnedChartForNodeVsClient(nodes2, ['qSize'], [client2], ['outStandingPackets', 'rttMS'])"
   ]
  },
  {
   "cell_type": "code",
   "execution_count": null,
   "metadata": {},
   "outputs": [],
   "source": [
    "\n",
    "# analyzer.binStats(nodes2, columnNames= ['qSize', 'utilization'], binSize=500, method=np.max)\n",
    "# # analyzer.createPlotsForTimeSteps(randomNodes[0].binnedStats, ['qSize', 'utilization'], title=\"Node 0 stats\")\n",
    "# # analyzer.createBinnedChart(randomNodes, ['qSize'])\n",
    "# analyzer.binStats([client2], columnNames= ['outStandingPackets', 'rttMS'], binSize=500, method=np.median)\n",
    "# # analyzer.createBinnedChart([client], ['rttMS'])\n",
    "# analyzer.createBinnedChartForNodeVsClient(nodes2, ['qSize'], [client2], ['outStandingPackets', 'rttMS'])"
   ]
  },
  {
   "cell_type": "code",
   "execution_count": null,
   "metadata": {},
   "outputs": [],
   "source": [
    "binSize = 1000\n",
    "clients = [client, client2, client3]\n",
    "analyzer.binStats(nodes, columnNames= ['qSize', 'utilization'], binSize=binSize, method=np.max)\n",
    "analyzer.binStats(nodes2, columnNames= ['qSize', 'utilization'], binSize=binSize, method=np.max)\n",
    "analyzer.binStats(nodes3, columnNames= ['qSize', 'utilization'], binSize=binSize, method=np.max)\n",
    "analyzer.binStats(clients, columnNames= ['outStandingPackets', 'rttMS', 'actualRttMS'], binSize=binSize, method=np.median)"
   ]
  },
  {
   "cell_type": "code",
   "execution_count": null,
   "metadata": {},
   "outputs": [],
   "source": [
    "\n",
    "analyzer.createBinnedChartForNodeVsClient(nodes2, ['qSize'], [client2], ['outStandingPackets', 'rttMS', 'actualRttMS'], figsize=(20, 10), start=0, end=None, xlabel=\"Time in MS\", ylabel=\"rtt in MS, # of packets\")\n",
    "analyzer.createPacketVsRTT(client2, figsize=(20, 10),)"
   ]
  },
  {
   "cell_type": "code",
   "execution_count": null,
   "metadata": {},
   "outputs": [],
   "source": [
    "client.stats['totalPacketsAcked'][-1], client2.stats['totalPacketsAcked'][-1]"
   ]
  },
  {
   "cell_type": "code",
   "execution_count": null,
   "metadata": {},
   "outputs": [],
   "source": [
    "\n",
    "filteredNodes1 = [nodes[1]]\n",
    "analyzer.createBinnedChartForNodeVsClient(filteredNodes1, ['qSize'], [client], ['outStandingPackets', 'actualRttMS'], figsize=(25, 10), start=0, end=8000, xlabel=\"Time in MS\", ylabel=\"rtt in MS, # of packets\")"
   ]
  },
  {
   "cell_type": "code",
   "execution_count": null,
   "metadata": {},
   "outputs": [],
   "source": [
    "analyzer.createBinnedChartForNodeVsClient(nodes3, ['qSize'], [client3], ['outStandingPackets', 'rttMS', 'actualRttMS'], figsize=(20, 10), start=0, end=8000, xlabel=\"Time in MS\", ylabel=\"rtt in MS, # of packets\")"
   ]
  },
  {
   "cell_type": "code",
   "execution_count": null,
   "metadata": {},
   "outputs": [],
   "source": [
    "\n",
    "# filteredNodes = [nodes2[2], nodes2[5]]\n",
    "filteredNodes = [nodes2[2]]\n",
    "analyzer.createBinnedChartForNodeVsClient(filteredNodes, ['qSize'], [client2], ['outStandingPackets'], figsize=(20, 10), start=2000, end=None, xlabel=\"Time in MS\", ylabel=\"rtt in MS, # of packets\")"
   ]
  },
  {
   "cell_type": "code",
   "execution_count": null,
   "metadata": {},
   "outputs": [],
   "source": [
    "\n",
    "analyzer.createBinnedChartForNodeVsClient(filteredNodes, ['qSize'], [client2], ['outStandingPackets'], figsize=(20, 10), start=2000, end=None, xlabel=\"Time in MS\", ylabel=\"rtt in MS, # of packets\")"
   ]
  },
  {
   "cell_type": "code",
   "execution_count": null,
   "metadata": {},
   "outputs": [],
   "source": []
  },
  {
   "cell_type": "code",
   "execution_count": null,
   "metadata": {},
   "outputs": [],
   "source": []
  }
 ],
 "metadata": {
  "kernelspec": {
   "display_name": "Python 3",
   "language": "python",
   "name": "python3"
  },
  "language_info": {
   "codemirror_mode": {
    "name": "ipython",
    "version": 3
   },
   "file_extension": ".py",
   "mimetype": "text/x-python",
   "name": "python",
   "nbconvert_exporter": "python",
   "pygments_lexer": "ipython3",
   "version": "3.7.9"
  }
 },
 "nbformat": 4,
 "nbformat_minor": 4
}
